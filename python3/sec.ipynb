{
 "cells": [
  {
   "cell_type": "markdown",
   "metadata": {},
   "source": [
    "# Insider Trading Analysis - SEC Edgar"
   ]
  },
  {
   "cell_type": "markdown",
   "metadata": {},
   "source": [
    "## Boilerplate\n",
    "\n",
    "Let's start by defining some boilerplate to define global variables."
   ]
  },
  {
   "cell_type": "markdown",
   "metadata": {},
   "source": [
    "# Download Form 4 Data\n",
    "\n",
    "Let's implement the download and XML parse methods. The XML parser extracts all non-derivative transactions listed in the 4 filing. It considers `disposal` and `acquisition` of items and calculates the sum of all transactions (sold and bought).\n",
    "\n",
    "**Important:** the downloader doesn't differentiate between filing issuer and reporter. In other words, we download the issuer's and reporter's filing. The reported transactions in both filings are the same and we double count transactions. That's OK for demonstration purposes but has to be cleaned when building a production version."
   ]
  },
  {
   "cell_type": "code",
   "execution_count": 10,
   "metadata": {},
   "outputs": [],
   "source": [
    "files = []\n",
    "data = []\n",
    "prices = []\n",
    "form = \"4\"\n",
    "ticker=\"SCHW\"\n",
    "year= \"2022\"\n",
    "month= \"01\"\n",
    "day= \"01\""
   ]
  },
  {
   "cell_type": "code",
   "execution_count": 11,
   "metadata": {},
   "outputs": [
    {
     "data": {
      "text/plain": [
       "75"
      ]
     },
     "execution_count": 11,
     "metadata": {},
     "output_type": "execute_result"
    }
   ],
   "source": [
    "from sec_edgar_downloader import Downloader\n",
    "dl = Downloader()\n",
    "\n",
    "#TODO: calculate dates missing based on files saved locally\n",
    "\n",
    "dl.get(form, ticker, after=year+'-'+month+'-'+day)"
   ]
  },
  {
   "cell_type": "markdown",
   "metadata": {},
   "source": [
    "## Compressing Filenames\n",
    "\n",
    "Adding filename to filings open XML data"
   ]
  },
  {
   "cell_type": "code",
   "execution_count": 12,
   "metadata": {},
   "outputs": [],
   "source": [
    "import os\n",
    "def compress_filings (filings):\n",
    "    compressed_filings = []\n",
    "    for filingDir in filings:\n",
    "        fullSubmissionFname = os.path.join(path_form, filingDir, \"filing-details.xml\")\n",
    "        compressed_filings.append(fullSubmissionFname)\n",
    "    return compressed_filings"
   ]
  },
  {
   "cell_type": "code",
   "execution_count": 13,
   "metadata": {},
   "outputs": [],
   "source": [
    "import os, re\n",
    "pattern = re.compile(\"([0-9]+)\")\n",
    "path_form = os.path.join(\"sec-edgar-filings\", ticker, '4')\n",
    "\n",
    "files = compress_filings(os.listdir(path_form))\n",
    "# files[0:1]"
   ]
  },
  {
   "cell_type": "markdown",
   "metadata": {},
   "source": [
    "# Open XML Files"
   ]
  },
  {
   "cell_type": "code",
   "execution_count": 14,
   "metadata": {},
   "outputs": [],
   "source": [
    "import xml.etree.ElementTree as ET\n",
    "import re\n",
    "\n",
    "def open_xml(file):\n",
    "    xml_file=  open(file)\n",
    "    data = xml_file.read()\n",
    "    xml_file.close()\n",
    "    matcher = re.compile('<\\?xml.*ownershipDocument>', flags=re.MULTILINE|re.DOTALL)\n",
    "    matches = matcher.search(data)\n",
    "    # the first matching group is the extracted XML of interest\n",
    "    xml = matches.group(0)\n",
    "    # instantiate the XML object\n",
    "    root = ET.fromstring(xml)\n",
    "    return root"
   ]
  },
  {
   "cell_type": "code",
   "execution_count": 15,
   "metadata": {},
   "outputs": [],
   "source": [
    "# Calculate the total transaction amount in $ of a giving form 4 in XML\n",
    "def flatten_info(xml):\n",
    "\n",
    "    if xml is None:\n",
    "        return\n",
    "    try:\n",
    "        periodOfReport = xml.findall(\"./periodOfReport\")[0].text\n",
    "        rptOwnerName = xml.findall(\"./reportingOwner/reportingOwnerId/rptOwnerName\")[0].text\n",
    "        issuerTradingSymbol = xml.findall(\"./issuer/issuerTradingSymbol\")[0].text\n",
    "        \n",
    "        isOfficer = xml.find(\"./reportingOwner/reportingOwnerRelationship/isOfficer\")\n",
    "\n",
    "        nonDerivativeTransactions = xml.findall(\"./nonDerivativeTable/nonDerivativeTransaction\")\n",
    "        for t in nonDerivativeTransactions:\n",
    "            # P is purchase and S is sell\n",
    "            generalCode = t.find('./transactionCoding/transactionCode').text\n",
    "            # D for disposed or A for acquired\n",
    "            action = t.find('./transactionAmounts/transactionAcquiredDisposedCode/value').text\n",
    "            # number of shares disposed/acquired\n",
    "            shares = t.find('./transactionAmounts/transactionShares/value').text\n",
    "            # price\n",
    "            priceRaw = t.find('./transactionAmounts/transactionPricePerShare/value')\n",
    "            price = 0 if priceRaw is None else priceRaw.text\n",
    "            # set prefix to -1 if derivatives were disposed. set prefix to 1 if derivatives were acquired.\n",
    "            prefix = -1 if action == 'D' else 1\n",
    "            # calculate transaction amount in $\n",
    "            amount = prefix * float(shares) * float(price)\n",
    "            data.append({\n",
    "                'periodOfReport': periodOfReport,\n",
    "                'generalCode': generalCode,\n",
    "                'issuerTradingSymbol': issuerTradingSymbol,\n",
    "                'rptOwnerName': rptOwnerName,\n",
    "                'action': action, \n",
    "                'shares': shares,\n",
    "                'amount': amount,\n",
    "                'price': price,\n",
    "                'isOfficer': 0 if isOfficer is None else isOfficer.text\n",
    "\n",
    "            })\n",
    "         \n",
    "    except Exception as exception:\n",
    "        print(exception, xml)\n",
    "    "
   ]
  },
  {
   "cell_type": "code",
   "execution_count": 16,
   "metadata": {},
   "outputs": [],
   "source": [
    "# FOR TESTING\n",
    "# data = []\n",
    "# xml = open_xml(files[0])\n",
    "# flatten_info(xml)\n",
    "# data[:1]"
   ]
  },
  {
   "cell_type": "code",
   "execution_count": 17,
   "metadata": {},
   "outputs": [
    {
     "data": {
      "text/plain": [
       "[{'periodOfReport': '2021-03-01',\n",
       "  'generalCode': 'M',\n",
       "  'issuerTradingSymbol': 'SCHW',\n",
       "  'rptOwnerName': 'Bettinger Walter W',\n",
       "  'action': 'A',\n",
       "  'shares': '57815.0000',\n",
       "  'amount': 3685706.25,\n",
       "  'price': '63.7500',\n",
       "  'isOfficer': '1'}]"
      ]
     },
     "execution_count": 17,
     "metadata": {},
     "output_type": "execute_result"
    }
   ],
   "source": [
    "# Get the XML file for each filing\n",
    "# Calculate the total transaction amount per filing\n",
    "# Save the calculate transaction values to the data dict\n",
    "for filing in files:\n",
    "    xml = open_xml(filing)\n",
    "    flatten_info(xml)\n",
    "# Running the function prints the URL of each filing fetched\n",
    "data[:1]"
   ]
  },
  {
   "cell_type": "code",
   "execution_count": 20,
   "metadata": {},
   "outputs": [
    {
     "ename": "AttributeError",
     "evalue": "'list' object has no attribute 'to_json'",
     "output_type": "error",
     "traceback": [
      "\u001b[0;31m---------------------------------------------------------------------------\u001b[0m",
      "\u001b[0;31mAttributeError\u001b[0m                            Traceback (most recent call last)",
      "\u001b[1;32m/Users/gerardovazquez/Documents/Developer/insider-trading/sec.ipynb Cell 14\u001b[0m in \u001b[0;36m<cell line: 1>\u001b[0;34m()\u001b[0m\n\u001b[0;32m----> <a href='vscode-notebook-cell:/Users/gerardovazquez/Documents/Developer/insider-trading/sec.ipynb#ch0000013?line=0'>1</a>\u001b[0m data\u001b[39m.\u001b[39;49mto_json(\u001b[39mr\u001b[39m\u001b[39m'\u001b[39m\u001b[39mschw.json\u001b[39m\u001b[39m'\u001b[39m, orient\u001b[39m=\u001b[39m\u001b[39m'\u001b[39m\u001b[39mrecords\u001b[39m\u001b[39m'\u001b[39m)\n",
      "\u001b[0;31mAttributeError\u001b[0m: 'list' object has no attribute 'to_json'"
     ]
    }
   ],
   "source": [
    "data.to_json('schw.json', orient='records')"
   ]
  },
  {
   "cell_type": "markdown",
   "metadata": {},
   "source": [
    "# Data Plot\n",
    "Displays insider trading in graph."
   ]
  },
  {
   "cell_type": "code",
   "execution_count": null,
   "metadata": {},
   "outputs": [],
   "source": [
    "import pandas as pd\n",
    "data = pd.json_normalize(data)"
   ]
  },
  {
   "cell_type": "code",
   "execution_count": null,
   "metadata": {},
   "outputs": [],
   "source": [
    "data.periodOfReport.min(), data.periodOfReport.max()"
   ]
  },
  {
   "cell_type": "code",
   "execution_count": null,
   "metadata": {},
   "outputs": [],
   "source": [
    "data.rptOwnerName.value_counts().head()"
   ]
  },
  {
   "cell_type": "code",
   "execution_count": null,
   "metadata": {},
   "outputs": [],
   "source": [
    "data.generalCode.value_counts()"
   ]
  },
  {
   "cell_type": "code",
   "execution_count": null,
   "metadata": {},
   "outputs": [],
   "source": [
    "# data.head()\n",
    "buys = data[data.generalCode == 'P'] \n",
    "sells = data[data.generalCode == 'S']\n",
    "officers_buy = data.query('generalCode == \"P\" and isOfficer == \"1\"')\n",
    "officers_buy.head()"
   ]
  },
  {
   "cell_type": "code",
   "execution_count": null,
   "metadata": {},
   "outputs": [],
   "source": [
    "import yfinance as yf\n",
    "\n",
    "start_date = \"{}-{}-{}\".format(year, month, day)\n",
    "prices = yf.download(ticker, start=start_date)\n",
    "prices.head()\n"
   ]
  },
  {
   "cell_type": "code",
   "execution_count": null,
   "metadata": {},
   "outputs": [],
   "source": [
    "import numpy as np\n",
    "import pandas as pd\n",
    "\n",
    "from bokeh.plotting import figure\n",
    "from bokeh.io import show, output_notebook, reset_output\n",
    "\n",
    "# importing the modules\n",
    "reset_output()\n",
    "output_notebook()\n",
    "\n",
    "# instantiating the figure object\n",
    "graph = figure(x_axis_type = \"datetime\", title = \"Stock Closing Prices\", tools='save,pan,box_zoom,reset,wheel_zoom,hover')\n",
    "graph.xaxis.axis_label = 'Date'\n",
    "graph.yaxis.axis_label = 'Price (in USD)'\n",
    "\n",
    "def datetime(x):\n",
    "    return np.array(x, dtype=np.datetime64)\n",
    "    \n",
    "# plotting the line graph \n",
    "graph.line(datetime(prices.index), prices['Adj Close'], color='#A6CEE3', legend_label=ticker)\n",
    "\n",
    "# plotting insider trading\n",
    "graph.circle(datetime(officers_buy.periodOfReport), buys.price, size = 10, color = 'green')\n",
    "graph.circle(datetime(sells.periodOfReport), sells.price, size = 10, color = 'red')\n",
    "\n",
    "# displaying the model\n",
    "show(graph)"
   ]
  },
  {
   "cell_type": "markdown",
   "metadata": {},
   "source": [
    "metric in time window\n",
    "- trend Q to year\n",
    "- how do we evaluate the trend?"
   ]
  },
  {
   "cell_type": "markdown",
   "metadata": {},
   "source": [
    "# Get Insider Trading Activity"
   ]
  },
  {
   "cell_type": "code",
   "execution_count": null,
   "metadata": {},
   "outputs": [],
   "source": [
    "def getBins (filings):\n",
    "    bins = {}\n",
    "    for index, row in filings.iterrows():\n",
    "        filedAt = row['periodOfReport']\n",
    "        nonDerivativeTransactions = row['amount']\n",
    "        value = bins[filedAt] + nonDerivativeTransactions if filedAt in bins else nonDerivativeTransactions\n",
    "        bins[filedAt] = round(value, 2)\n",
    "    return bins"
   ]
  },
  {
   "cell_type": "code",
   "execution_count": null,
   "metadata": {},
   "outputs": [],
   "source": [
    "bins = getBins(data)\n",
    "# bins"
   ]
  },
  {
   "cell_type": "code",
   "execution_count": null,
   "metadata": {},
   "outputs": [],
   "source": [
    "import matplotlib.pyplot as plt\n",
    "import matplotlib\n",
    "\n",
    "# Set size of figure\n",
    "plt.rcParams['figure.figsize'] = [150, 100]\n",
    "\n",
    "# Prettify y axis: 2000000 to $2M\n",
    "def millions(x, pos):\n",
    "    return '${:,.0f}M'.format(x*1e-6)\n",
    "\n",
    "fig, ax = plt.subplots()\n",
    "# Define bar plot\n",
    "ax.bar(range(len(bins)), list(bins.values()), align='center')\n",
    "ax.grid(True)\n",
    "ax.yaxis.set_major_formatter(matplotlib.ticker.FuncFormatter(millions))\n",
    "# Prettify x axis\n",
    "fig.autofmt_xdate()\n",
    "# Set x axis values\n",
    "plt.xticks(range(len(bins)), list(bins.keys()))\n",
    "plt.show()"
   ]
  }
 ],
 "metadata": {
  "interpreter": {
   "hash": "aee8b7b246df8f9039afb4144a1f6fd8d2ca17a180786b69acc140d282b71a49"
  },
  "kernelspec": {
   "display_name": "Python 3.10.4 64-bit",
   "language": "python",
   "name": "python3"
  },
  "language_info": {
   "codemirror_mode": {
    "name": "ipython",
    "version": 3
   },
   "file_extension": ".py",
   "mimetype": "text/x-python",
   "name": "python",
   "nbconvert_exporter": "python",
   "pygments_lexer": "ipython3",
   "version": "3.10.4"
  },
  "orig_nbformat": 4
 },
 "nbformat": 4,
 "nbformat_minor": 2
}
